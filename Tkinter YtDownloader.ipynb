{
 "cells": [
  {
   "cell_type": "code",
   "execution_count": null,
   "metadata": {},
   "outputs": [],
   "source": []
  },
  {
   "cell_type": "code",
   "execution_count": 72,
   "metadata": {},
   "outputs": [],
   "source": [
    "import pafy\n",
    "import tkinter as tk \n",
    "import os\n",
    "\n",
    "def VidDownloader():\n",
    "    url = str(entry.get())\n",
    "    video_down =pafy.new(url)\n",
    "    Title = print(\"Video Ttile : \", video_down.title)\n",
    "    Ratings = print(\"Ratings : \", video_down.rating)\n",
    "    Streams = video_down.streams\n",
    "    \n",
    "#iterate through the Streams\n",
    "    for s in Streams:\n",
    "        print(\"Streams :\",s,\"\\n\")\n",
    "\n",
    "    best = video_down.getbest(preftype=\"mp4\")\n",
    "    print(best.download())\n",
    "    print(\"Video has been Downloaded......!!!!! \")\n",
    " \n",
    "root = tk.Tk()\n",
    "root.title(\"............Youtube Downloader...............\")\n",
    "\n",
    "canvas = tk.Canvas(root ,width = 400 , height = 400)\n",
    "canvas.pack()\n",
    "\n",
    "frame = tk.Frame(root , bg =\"#5CDB95\")\n",
    "frame.pack()\n",
    "\n",
    "button = tk.Button(root , text = \"Download Video\", command = lambda:VidDownloader(),bg=\"black\",fg =\"red\", font= \"Righteous 20\")\n",
    "button.pack(side = tk.BOTTOM)\n",
    "\n",
    "entry = tk.Entry(root , bd = 10 ,)\n",
    "entry.pack(side = tk.TOP)\n",
    "\n",
    "\n",
    "\n",
    "\n",
    "root.mainloop()\n",
    "\n"
   ]
  },
  {
   "cell_type": "code",
   "execution_count": null,
   "metadata": {},
   "outputs": [],
   "source": []
  },
  {
   "cell_type": "code",
   "execution_count": null,
   "metadata": {},
   "outputs": [],
   "source": []
  },
  {
   "cell_type": "code",
   "execution_count": null,
   "metadata": {},
   "outputs": [],
   "source": []
  },
  {
   "cell_type": "code",
   "execution_count": null,
   "metadata": {},
   "outputs": [],
   "source": []
  },
  {
   "cell_type": "code",
   "execution_count": null,
   "metadata": {},
   "outputs": [],
   "source": []
  },
  {
   "cell_type": "code",
   "execution_count": null,
   "metadata": {},
   "outputs": [],
   "source": []
  },
  {
   "cell_type": "code",
   "execution_count": null,
   "metadata": {},
   "outputs": [],
   "source": []
  },
  {
   "cell_type": "code",
   "execution_count": null,
   "metadata": {},
   "outputs": [],
   "source": []
  },
  {
   "cell_type": "code",
   "execution_count": null,
   "metadata": {},
   "outputs": [],
   "source": [
    "\n"
   ]
  },
  {
   "cell_type": "code",
   "execution_count": null,
   "metadata": {},
   "outputs": [],
   "source": []
  },
  {
   "cell_type": "code",
   "execution_count": null,
   "metadata": {},
   "outputs": [],
   "source": []
  },
  {
   "cell_type": "code",
   "execution_count": null,
   "metadata": {},
   "outputs": [],
   "source": [
    "\n",
    "    \n",
    "    "
   ]
  },
  {
   "cell_type": "code",
   "execution_count": null,
   "metadata": {},
   "outputs": [],
   "source": []
  },
  {
   "cell_type": "code",
   "execution_count": null,
   "metadata": {},
   "outputs": [],
   "source": []
  }
 ],
 "metadata": {
  "kernelspec": {
   "display_name": "Python 3",
   "language": "python",
   "name": "python3"
  },
  "language_info": {
   "codemirror_mode": {
    "name": "ipython",
    "version": 3
   },
   "file_extension": ".py",
   "mimetype": "text/x-python",
   "name": "python",
   "nbconvert_exporter": "python",
   "pygments_lexer": "ipython3",
   "version": "3.7.3"
  }
 },
 "nbformat": 4,
 "nbformat_minor": 2
}
